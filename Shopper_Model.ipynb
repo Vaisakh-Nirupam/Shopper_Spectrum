{
 "cells": [
  {
   "cell_type": "markdown",
   "id": "179d27e7",
   "metadata": {},
   "source": [
    "# **Shopper Spectrum:** "
   ]
  },
  {
   "cell_type": "markdown",
   "id": "56f54b18",
   "metadata": {},
   "source": [
    "# **Libraries Used**"
   ]
  },
  {
   "cell_type": "code",
   "execution_count": 254,
   "id": "51f33a9f",
   "metadata": {},
   "outputs": [],
   "source": [
    "import pandas as pd"
   ]
  },
  {
   "cell_type": "markdown",
   "id": "68815535",
   "metadata": {},
   "source": [
    "# **About Dataset**"
   ]
  },
  {
   "cell_type": "markdown",
   "id": "5c9ac03b",
   "metadata": {},
   "source": [
    "Load Dataset:"
   ]
  },
  {
   "cell_type": "code",
   "execution_count": 255,
   "id": "c9c746ad",
   "metadata": {},
   "outputs": [
    {
     "data": {
      "application/vnd.microsoft.datawrangler.viewer.v0+json": {
       "columns": [
        {
         "name": "index",
         "rawType": "int64",
         "type": "integer"
        },
        {
         "name": "InvoiceNo",
         "rawType": "object",
         "type": "string"
        },
        {
         "name": "StockCode",
         "rawType": "object",
         "type": "string"
        },
        {
         "name": "Description",
         "rawType": "object",
         "type": "unknown"
        },
        {
         "name": "Quantity",
         "rawType": "int64",
         "type": "integer"
        },
        {
         "name": "InvoiceDate",
         "rawType": "object",
         "type": "string"
        },
        {
         "name": "UnitPrice",
         "rawType": "float64",
         "type": "float"
        },
        {
         "name": "CustomerID",
         "rawType": "float64",
         "type": "float"
        },
        {
         "name": "Country",
         "rawType": "object",
         "type": "string"
        }
       ],
       "ref": "31e620d1-03ae-4b9d-888e-2de49193d1c5",
       "rows": [
        [
         "0",
         "536365",
         "85123A",
         "WHITE HANGING HEART T-LIGHT HOLDER",
         "6",
         "2022-12-01 08:26:00",
         "2.55",
         "17850.0",
         "United Kingdom"
        ],
        [
         "1",
         "536365",
         "71053",
         "WHITE METAL LANTERN",
         "6",
         "2022-12-01 08:26:00",
         "3.39",
         "17850.0",
         "United Kingdom"
        ],
        [
         "2",
         "536365",
         "84406B",
         "CREAM CUPID HEARTS COAT HANGER",
         "8",
         "2022-12-01 08:26:00",
         "2.75",
         "17850.0",
         "United Kingdom"
        ],
        [
         "3",
         "536365",
         "84029G",
         "KNITTED UNION FLAG HOT WATER BOTTLE",
         "6",
         "2022-12-01 08:26:00",
         "3.39",
         "17850.0",
         "United Kingdom"
        ],
        [
         "4",
         "536365",
         "84029E",
         "RED WOOLLY HOTTIE WHITE HEART.",
         "6",
         "2022-12-01 08:26:00",
         "3.39",
         "17850.0",
         "United Kingdom"
        ],
        [
         "5",
         "536365",
         "22752",
         "SET 7 BABUSHKA NESTING BOXES",
         "2",
         "2022-12-01 08:26:00",
         "7.65",
         "17850.0",
         "United Kingdom"
        ],
        [
         "6",
         "536365",
         "21730",
         "GLASS STAR FROSTED T-LIGHT HOLDER",
         "6",
         "2022-12-01 08:26:00",
         "4.25",
         "17850.0",
         "United Kingdom"
        ],
        [
         "7",
         "536366",
         "22633",
         "HAND WARMER UNION JACK",
         "6",
         "2022-12-01 08:28:00",
         "1.85",
         "17850.0",
         "United Kingdom"
        ],
        [
         "8",
         "536366",
         "22632",
         "HAND WARMER RED POLKA DOT",
         "6",
         "2022-12-01 08:28:00",
         "1.85",
         "17850.0",
         "United Kingdom"
        ],
        [
         "9",
         "536367",
         "84879",
         "ASSORTED COLOUR BIRD ORNAMENT",
         "32",
         "2022-12-01 08:34:00",
         "1.69",
         "13047.0",
         "United Kingdom"
        ],
        [
         "10",
         "536367",
         "22745",
         "POPPY'S PLAYHOUSE BEDROOM ",
         "6",
         "2022-12-01 08:34:00",
         "2.1",
         "13047.0",
         "United Kingdom"
        ],
        [
         "11",
         "536367",
         "22748",
         "POPPY'S PLAYHOUSE KITCHEN",
         "6",
         "2022-12-01 08:34:00",
         "2.1",
         "13047.0",
         "United Kingdom"
        ],
        [
         "12",
         "536367",
         "22749",
         "FELTCRAFT PRINCESS CHARLOTTE DOLL",
         "8",
         "2022-12-01 08:34:00",
         "3.75",
         "13047.0",
         "United Kingdom"
        ],
        [
         "13",
         "536367",
         "22310",
         "IVORY KNITTED MUG COSY ",
         "6",
         "2022-12-01 08:34:00",
         "1.65",
         "13047.0",
         "United Kingdom"
        ],
        [
         "14",
         "536367",
         "84969",
         "BOX OF 6 ASSORTED COLOUR TEASPOONS",
         "6",
         "2022-12-01 08:34:00",
         "4.25",
         "13047.0",
         "United Kingdom"
        ],
        [
         "15",
         "536367",
         "22623",
         "BOX OF VINTAGE JIGSAW BLOCKS ",
         "3",
         "2022-12-01 08:34:00",
         "4.95",
         "13047.0",
         "United Kingdom"
        ],
        [
         "16",
         "536367",
         "22622",
         "BOX OF VINTAGE ALPHABET BLOCKS",
         "2",
         "2022-12-01 08:34:00",
         "9.95",
         "13047.0",
         "United Kingdom"
        ],
        [
         "17",
         "536367",
         "21754",
         "HOME BUILDING BLOCK WORD",
         "3",
         "2022-12-01 08:34:00",
         "5.95",
         "13047.0",
         "United Kingdom"
        ],
        [
         "18",
         "536367",
         "21755",
         "LOVE BUILDING BLOCK WORD",
         "3",
         "2022-12-01 08:34:00",
         "5.95",
         "13047.0",
         "United Kingdom"
        ],
        [
         "19",
         "536367",
         "21777",
         "RECIPE BOX WITH METAL HEART",
         "4",
         "2022-12-01 08:34:00",
         "7.95",
         "13047.0",
         "United Kingdom"
        ],
        [
         "20",
         "536367",
         "48187",
         "DOORMAT NEW ENGLAND",
         "4",
         "2022-12-01 08:34:00",
         "7.95",
         "13047.0",
         "United Kingdom"
        ],
        [
         "21",
         "536368",
         "22960",
         "JAM MAKING SET WITH JARS",
         "6",
         "2022-12-01 08:34:00",
         "4.25",
         "13047.0",
         "United Kingdom"
        ],
        [
         "22",
         "536368",
         "22913",
         "RED COAT RACK PARIS FASHION",
         "3",
         "2022-12-01 08:34:00",
         "4.95",
         "13047.0",
         "United Kingdom"
        ],
        [
         "23",
         "536368",
         "22912",
         "YELLOW COAT RACK PARIS FASHION",
         "3",
         "2022-12-01 08:34:00",
         "4.95",
         "13047.0",
         "United Kingdom"
        ],
        [
         "24",
         "536368",
         "22914",
         "BLUE COAT RACK PARIS FASHION",
         "3",
         "2022-12-01 08:34:00",
         "4.95",
         "13047.0",
         "United Kingdom"
        ],
        [
         "25",
         "536369",
         "21756",
         "BATH BUILDING BLOCK WORD",
         "3",
         "2022-12-01 08:35:00",
         "5.95",
         "13047.0",
         "United Kingdom"
        ],
        [
         "26",
         "536370",
         "22728",
         "ALARM CLOCK BAKELIKE PINK",
         "24",
         "2022-12-01 08:45:00",
         "3.75",
         "12583.0",
         "France"
        ],
        [
         "27",
         "536370",
         "22727",
         "ALARM CLOCK BAKELIKE RED ",
         "24",
         "2022-12-01 08:45:00",
         "3.75",
         "12583.0",
         "France"
        ],
        [
         "28",
         "536370",
         "22726",
         "ALARM CLOCK BAKELIKE GREEN",
         "12",
         "2022-12-01 08:45:00",
         "3.75",
         "12583.0",
         "France"
        ],
        [
         "29",
         "536370",
         "21724",
         "PANDA AND BUNNIES STICKER SHEET",
         "12",
         "2022-12-01 08:45:00",
         "0.85",
         "12583.0",
         "France"
        ],
        [
         "30",
         "536370",
         "21883",
         "STARS GIFT TAPE ",
         "24",
         "2022-12-01 08:45:00",
         "0.65",
         "12583.0",
         "France"
        ],
        [
         "31",
         "536370",
         "10002",
         "INFLATABLE POLITICAL GLOBE ",
         "48",
         "2022-12-01 08:45:00",
         "0.85",
         "12583.0",
         "France"
        ],
        [
         "32",
         "536370",
         "21791",
         "VINTAGE HEADS AND TAILS CARD GAME ",
         "24",
         "2022-12-01 08:45:00",
         "1.25",
         "12583.0",
         "France"
        ],
        [
         "33",
         "536370",
         "21035",
         "SET/2 RED RETROSPOT TEA TOWELS ",
         "18",
         "2022-12-01 08:45:00",
         "2.95",
         "12583.0",
         "France"
        ],
        [
         "34",
         "536370",
         "22326",
         "ROUND SNACK BOXES SET OF4 WOODLAND ",
         "24",
         "2022-12-01 08:45:00",
         "2.95",
         "12583.0",
         "France"
        ],
        [
         "35",
         "536370",
         "22629",
         "SPACEBOY LUNCH BOX ",
         "24",
         "2022-12-01 08:45:00",
         "1.95",
         "12583.0",
         "France"
        ],
        [
         "36",
         "536370",
         "22659",
         "LUNCH BOX I LOVE LONDON",
         "24",
         "2022-12-01 08:45:00",
         "1.95",
         "12583.0",
         "France"
        ],
        [
         "37",
         "536370",
         "22631",
         "CIRCUS PARADE LUNCH BOX ",
         "24",
         "2022-12-01 08:45:00",
         "1.95",
         "12583.0",
         "France"
        ],
        [
         "38",
         "536370",
         "22661",
         "CHARLOTTE BAG DOLLY GIRL DESIGN",
         "20",
         "2022-12-01 08:45:00",
         "0.85",
         "12583.0",
         "France"
        ],
        [
         "39",
         "536370",
         "21731",
         "RED TOADSTOOL LED NIGHT LIGHT",
         "24",
         "2022-12-01 08:45:00",
         "1.65",
         "12583.0",
         "France"
        ],
        [
         "40",
         "536370",
         "22900",
         " SET 2 TEA TOWELS I LOVE LONDON ",
         "24",
         "2022-12-01 08:45:00",
         "2.95",
         "12583.0",
         "France"
        ],
        [
         "41",
         "536370",
         "21913",
         "VINTAGE SEASIDE JIGSAW PUZZLES",
         "12",
         "2022-12-01 08:45:00",
         "3.75",
         "12583.0",
         "France"
        ],
        [
         "42",
         "536370",
         "22540",
         "MINI JIGSAW CIRCUS PARADE ",
         "24",
         "2022-12-01 08:45:00",
         "0.42",
         "12583.0",
         "France"
        ],
        [
         "43",
         "536370",
         "22544",
         "MINI JIGSAW SPACEBOY",
         "24",
         "2022-12-01 08:45:00",
         "0.42",
         "12583.0",
         "France"
        ],
        [
         "44",
         "536370",
         "22492",
         "MINI PAINT SET VINTAGE ",
         "36",
         "2022-12-01 08:45:00",
         "0.65",
         "12583.0",
         "France"
        ],
        [
         "45",
         "536370",
         "POST",
         "POSTAGE",
         "3",
         "2022-12-01 08:45:00",
         "18.0",
         "12583.0",
         "France"
        ],
        [
         "46",
         "536371",
         "22086",
         "PAPER CHAIN KIT 50'S CHRISTMAS ",
         "80",
         "2022-12-01 09:00:00",
         "2.55",
         "13748.0",
         "United Kingdom"
        ],
        [
         "47",
         "536372",
         "22632",
         "HAND WARMER RED POLKA DOT",
         "6",
         "2022-12-01 09:01:00",
         "1.85",
         "17850.0",
         "United Kingdom"
        ],
        [
         "48",
         "536372",
         "22633",
         "HAND WARMER UNION JACK",
         "6",
         "2022-12-01 09:01:00",
         "1.85",
         "17850.0",
         "United Kingdom"
        ],
        [
         "49",
         "536373",
         "85123A",
         "WHITE HANGING HEART T-LIGHT HOLDER",
         "6",
         "2022-12-01 09:02:00",
         "2.55",
         "17850.0",
         "United Kingdom"
        ]
       ],
       "shape": {
        "columns": 8,
        "rows": 541909
       }
      },
      "text/html": [
       "<div>\n",
       "<style scoped>\n",
       "    .dataframe tbody tr th:only-of-type {\n",
       "        vertical-align: middle;\n",
       "    }\n",
       "\n",
       "    .dataframe tbody tr th {\n",
       "        vertical-align: top;\n",
       "    }\n",
       "\n",
       "    .dataframe thead th {\n",
       "        text-align: right;\n",
       "    }\n",
       "</style>\n",
       "<table border=\"1\" class=\"dataframe\">\n",
       "  <thead>\n",
       "    <tr style=\"text-align: right;\">\n",
       "      <th></th>\n",
       "      <th>InvoiceNo</th>\n",
       "      <th>StockCode</th>\n",
       "      <th>Description</th>\n",
       "      <th>Quantity</th>\n",
       "      <th>InvoiceDate</th>\n",
       "      <th>UnitPrice</th>\n",
       "      <th>CustomerID</th>\n",
       "      <th>Country</th>\n",
       "    </tr>\n",
       "  </thead>\n",
       "  <tbody>\n",
       "    <tr>\n",
       "      <th>0</th>\n",
       "      <td>536365</td>\n",
       "      <td>85123A</td>\n",
       "      <td>WHITE HANGING HEART T-LIGHT HOLDER</td>\n",
       "      <td>6</td>\n",
       "      <td>2022-12-01 08:26:00</td>\n",
       "      <td>2.55</td>\n",
       "      <td>17850.0</td>\n",
       "      <td>United Kingdom</td>\n",
       "    </tr>\n",
       "    <tr>\n",
       "      <th>1</th>\n",
       "      <td>536365</td>\n",
       "      <td>71053</td>\n",
       "      <td>WHITE METAL LANTERN</td>\n",
       "      <td>6</td>\n",
       "      <td>2022-12-01 08:26:00</td>\n",
       "      <td>3.39</td>\n",
       "      <td>17850.0</td>\n",
       "      <td>United Kingdom</td>\n",
       "    </tr>\n",
       "    <tr>\n",
       "      <th>2</th>\n",
       "      <td>536365</td>\n",
       "      <td>84406B</td>\n",
       "      <td>CREAM CUPID HEARTS COAT HANGER</td>\n",
       "      <td>8</td>\n",
       "      <td>2022-12-01 08:26:00</td>\n",
       "      <td>2.75</td>\n",
       "      <td>17850.0</td>\n",
       "      <td>United Kingdom</td>\n",
       "    </tr>\n",
       "    <tr>\n",
       "      <th>3</th>\n",
       "      <td>536365</td>\n",
       "      <td>84029G</td>\n",
       "      <td>KNITTED UNION FLAG HOT WATER BOTTLE</td>\n",
       "      <td>6</td>\n",
       "      <td>2022-12-01 08:26:00</td>\n",
       "      <td>3.39</td>\n",
       "      <td>17850.0</td>\n",
       "      <td>United Kingdom</td>\n",
       "    </tr>\n",
       "    <tr>\n",
       "      <th>4</th>\n",
       "      <td>536365</td>\n",
       "      <td>84029E</td>\n",
       "      <td>RED WOOLLY HOTTIE WHITE HEART.</td>\n",
       "      <td>6</td>\n",
       "      <td>2022-12-01 08:26:00</td>\n",
       "      <td>3.39</td>\n",
       "      <td>17850.0</td>\n",
       "      <td>United Kingdom</td>\n",
       "    </tr>\n",
       "    <tr>\n",
       "      <th>...</th>\n",
       "      <td>...</td>\n",
       "      <td>...</td>\n",
       "      <td>...</td>\n",
       "      <td>...</td>\n",
       "      <td>...</td>\n",
       "      <td>...</td>\n",
       "      <td>...</td>\n",
       "      <td>...</td>\n",
       "    </tr>\n",
       "    <tr>\n",
       "      <th>541904</th>\n",
       "      <td>581587</td>\n",
       "      <td>22613</td>\n",
       "      <td>PACK OF 20 SPACEBOY NAPKINS</td>\n",
       "      <td>12</td>\n",
       "      <td>2023-12-09 12:50:00</td>\n",
       "      <td>0.85</td>\n",
       "      <td>12680.0</td>\n",
       "      <td>France</td>\n",
       "    </tr>\n",
       "    <tr>\n",
       "      <th>541905</th>\n",
       "      <td>581587</td>\n",
       "      <td>22899</td>\n",
       "      <td>CHILDREN'S APRON DOLLY GIRL</td>\n",
       "      <td>6</td>\n",
       "      <td>2023-12-09 12:50:00</td>\n",
       "      <td>2.10</td>\n",
       "      <td>12680.0</td>\n",
       "      <td>France</td>\n",
       "    </tr>\n",
       "    <tr>\n",
       "      <th>541906</th>\n",
       "      <td>581587</td>\n",
       "      <td>23254</td>\n",
       "      <td>CHILDRENS CUTLERY DOLLY GIRL</td>\n",
       "      <td>4</td>\n",
       "      <td>2023-12-09 12:50:00</td>\n",
       "      <td>4.15</td>\n",
       "      <td>12680.0</td>\n",
       "      <td>France</td>\n",
       "    </tr>\n",
       "    <tr>\n",
       "      <th>541907</th>\n",
       "      <td>581587</td>\n",
       "      <td>23255</td>\n",
       "      <td>CHILDRENS CUTLERY CIRCUS PARADE</td>\n",
       "      <td>4</td>\n",
       "      <td>2023-12-09 12:50:00</td>\n",
       "      <td>4.15</td>\n",
       "      <td>12680.0</td>\n",
       "      <td>France</td>\n",
       "    </tr>\n",
       "    <tr>\n",
       "      <th>541908</th>\n",
       "      <td>581587</td>\n",
       "      <td>22138</td>\n",
       "      <td>BAKING SET 9 PIECE RETROSPOT</td>\n",
       "      <td>3</td>\n",
       "      <td>2023-12-09 12:50:00</td>\n",
       "      <td>4.95</td>\n",
       "      <td>12680.0</td>\n",
       "      <td>France</td>\n",
       "    </tr>\n",
       "  </tbody>\n",
       "</table>\n",
       "<p>541909 rows × 8 columns</p>\n",
       "</div>"
      ],
      "text/plain": [
       "       InvoiceNo StockCode                          Description  Quantity  \\\n",
       "0         536365    85123A   WHITE HANGING HEART T-LIGHT HOLDER         6   \n",
       "1         536365     71053                  WHITE METAL LANTERN         6   \n",
       "2         536365    84406B       CREAM CUPID HEARTS COAT HANGER         8   \n",
       "3         536365    84029G  KNITTED UNION FLAG HOT WATER BOTTLE         6   \n",
       "4         536365    84029E       RED WOOLLY HOTTIE WHITE HEART.         6   \n",
       "...          ...       ...                                  ...       ...   \n",
       "541904    581587     22613          PACK OF 20 SPACEBOY NAPKINS        12   \n",
       "541905    581587     22899         CHILDREN'S APRON DOLLY GIRL          6   \n",
       "541906    581587     23254        CHILDRENS CUTLERY DOLLY GIRL          4   \n",
       "541907    581587     23255      CHILDRENS CUTLERY CIRCUS PARADE         4   \n",
       "541908    581587     22138        BAKING SET 9 PIECE RETROSPOT          3   \n",
       "\n",
       "                InvoiceDate  UnitPrice  CustomerID         Country  \n",
       "0       2022-12-01 08:26:00       2.55     17850.0  United Kingdom  \n",
       "1       2022-12-01 08:26:00       3.39     17850.0  United Kingdom  \n",
       "2       2022-12-01 08:26:00       2.75     17850.0  United Kingdom  \n",
       "3       2022-12-01 08:26:00       3.39     17850.0  United Kingdom  \n",
       "4       2022-12-01 08:26:00       3.39     17850.0  United Kingdom  \n",
       "...                     ...        ...         ...             ...  \n",
       "541904  2023-12-09 12:50:00       0.85     12680.0          France  \n",
       "541905  2023-12-09 12:50:00       2.10     12680.0          France  \n",
       "541906  2023-12-09 12:50:00       4.15     12680.0          France  \n",
       "541907  2023-12-09 12:50:00       4.15     12680.0          France  \n",
       "541908  2023-12-09 12:50:00       4.95     12680.0          France  \n",
       "\n",
       "[541909 rows x 8 columns]"
      ]
     },
     "execution_count": 255,
     "metadata": {},
     "output_type": "execute_result"
    }
   ],
   "source": [
    "df = pd.read_csv('dataset\\online_retail.csv')\n",
    "df"
   ]
  },
  {
   "cell_type": "markdown",
   "id": "ab2b4f5e",
   "metadata": {},
   "source": [
    "* There are 540k+ data and 8 columns"
   ]
  },
  {
   "cell_type": "markdown",
   "id": "40668a11",
   "metadata": {},
   "source": [
    "Dataset info:"
   ]
  },
  {
   "cell_type": "code",
   "execution_count": 256,
   "id": "32c6c086",
   "metadata": {},
   "outputs": [
    {
     "name": "stdout",
     "output_type": "stream",
     "text": [
      "<class 'pandas.core.frame.DataFrame'>\n",
      "RangeIndex: 541909 entries, 0 to 541908\n",
      "Data columns (total 8 columns):\n",
      " #   Column       Non-Null Count   Dtype  \n",
      "---  ------       --------------   -----  \n",
      " 0   InvoiceNo    541909 non-null  object \n",
      " 1   StockCode    541909 non-null  object \n",
      " 2   Description  540455 non-null  object \n",
      " 3   Quantity     541909 non-null  int64  \n",
      " 4   InvoiceDate  541909 non-null  object \n",
      " 5   UnitPrice    541909 non-null  float64\n",
      " 6   CustomerID   406829 non-null  float64\n",
      " 7   Country      541909 non-null  object \n",
      "dtypes: float64(2), int64(1), object(5)\n",
      "memory usage: 33.1+ MB\n"
     ]
    }
   ],
   "source": [
    "df.info()"
   ]
  },
  {
   "cell_type": "markdown",
   "id": "49bf0ca0",
   "metadata": {},
   "source": [
    "* Date-time conversion needed on Invoice date\n",
    "* Invoice no & Stock code not needed  \n",
    "* Missing values found"
   ]
  },
  {
   "cell_type": "markdown",
   "id": "6e9967c3",
   "metadata": {},
   "source": [
    "Dataset describe:"
   ]
  },
  {
   "cell_type": "code",
   "execution_count": 257,
   "id": "fe0ec1a5",
   "metadata": {},
   "outputs": [
    {
     "data": {
      "application/vnd.microsoft.datawrangler.viewer.v0+json": {
       "columns": [
        {
         "name": "index",
         "rawType": "object",
         "type": "string"
        },
        {
         "name": "Quantity",
         "rawType": "float64",
         "type": "float"
        },
        {
         "name": "UnitPrice",
         "rawType": "float64",
         "type": "float"
        },
        {
         "name": "CustomerID",
         "rawType": "float64",
         "type": "float"
        }
       ],
       "ref": "45ead0fa-2910-4795-87ce-2a0fb94cca89",
       "rows": [
        [
         "count",
         "541909.0",
         "541909.0",
         "406829.0"
        ],
        [
         "mean",
         "9.55224954743324",
         "4.611113626088513",
         "15287.690570239585"
        ],
        [
         "std",
         "218.08115785023384",
         "96.75985306117938",
         "1713.600303321598"
        ],
        [
         "min",
         "-80995.0",
         "-11062.06",
         "12346.0"
        ],
        [
         "25%",
         "1.0",
         "1.25",
         "13953.0"
        ],
        [
         "50%",
         "3.0",
         "2.08",
         "15152.0"
        ],
        [
         "75%",
         "10.0",
         "4.13",
         "16791.0"
        ],
        [
         "max",
         "80995.0",
         "38970.0",
         "18287.0"
        ]
       ],
       "shape": {
        "columns": 3,
        "rows": 8
       }
      },
      "text/html": [
       "<div>\n",
       "<style scoped>\n",
       "    .dataframe tbody tr th:only-of-type {\n",
       "        vertical-align: middle;\n",
       "    }\n",
       "\n",
       "    .dataframe tbody tr th {\n",
       "        vertical-align: top;\n",
       "    }\n",
       "\n",
       "    .dataframe thead th {\n",
       "        text-align: right;\n",
       "    }\n",
       "</style>\n",
       "<table border=\"1\" class=\"dataframe\">\n",
       "  <thead>\n",
       "    <tr style=\"text-align: right;\">\n",
       "      <th></th>\n",
       "      <th>Quantity</th>\n",
       "      <th>UnitPrice</th>\n",
       "      <th>CustomerID</th>\n",
       "    </tr>\n",
       "  </thead>\n",
       "  <tbody>\n",
       "    <tr>\n",
       "      <th>count</th>\n",
       "      <td>541909.000000</td>\n",
       "      <td>541909.000000</td>\n",
       "      <td>406829.000000</td>\n",
       "    </tr>\n",
       "    <tr>\n",
       "      <th>mean</th>\n",
       "      <td>9.552250</td>\n",
       "      <td>4.611114</td>\n",
       "      <td>15287.690570</td>\n",
       "    </tr>\n",
       "    <tr>\n",
       "      <th>std</th>\n",
       "      <td>218.081158</td>\n",
       "      <td>96.759853</td>\n",
       "      <td>1713.600303</td>\n",
       "    </tr>\n",
       "    <tr>\n",
       "      <th>min</th>\n",
       "      <td>-80995.000000</td>\n",
       "      <td>-11062.060000</td>\n",
       "      <td>12346.000000</td>\n",
       "    </tr>\n",
       "    <tr>\n",
       "      <th>25%</th>\n",
       "      <td>1.000000</td>\n",
       "      <td>1.250000</td>\n",
       "      <td>13953.000000</td>\n",
       "    </tr>\n",
       "    <tr>\n",
       "      <th>50%</th>\n",
       "      <td>3.000000</td>\n",
       "      <td>2.080000</td>\n",
       "      <td>15152.000000</td>\n",
       "    </tr>\n",
       "    <tr>\n",
       "      <th>75%</th>\n",
       "      <td>10.000000</td>\n",
       "      <td>4.130000</td>\n",
       "      <td>16791.000000</td>\n",
       "    </tr>\n",
       "    <tr>\n",
       "      <th>max</th>\n",
       "      <td>80995.000000</td>\n",
       "      <td>38970.000000</td>\n",
       "      <td>18287.000000</td>\n",
       "    </tr>\n",
       "  </tbody>\n",
       "</table>\n",
       "</div>"
      ],
      "text/plain": [
       "            Quantity      UnitPrice     CustomerID\n",
       "count  541909.000000  541909.000000  406829.000000\n",
       "mean        9.552250       4.611114   15287.690570\n",
       "std       218.081158      96.759853    1713.600303\n",
       "min    -80995.000000  -11062.060000   12346.000000\n",
       "25%         1.000000       1.250000   13953.000000\n",
       "50%         3.000000       2.080000   15152.000000\n",
       "75%        10.000000       4.130000   16791.000000\n",
       "max     80995.000000   38970.000000   18287.000000"
      ]
     },
     "execution_count": 257,
     "metadata": {},
     "output_type": "execute_result"
    }
   ],
   "source": [
    "df.describe()"
   ]
  },
  {
   "cell_type": "markdown",
   "id": "b939fc9a",
   "metadata": {},
   "source": [
    "* Unusual min values on quantity and unit price.  "
   ]
  },
  {
   "cell_type": "markdown",
   "id": "bca253af",
   "metadata": {},
   "source": [
    "# **Dataset Clean**"
   ]
  },
  {
   "cell_type": "code",
   "execution_count": 258,
   "id": "7a72a986",
   "metadata": {},
   "outputs": [],
   "source": [
    "df_clean = df.copy()"
   ]
  },
  {
   "cell_type": "markdown",
   "id": "49bd38fd",
   "metadata": {},
   "source": [
    "Remove cancelled invoices:"
   ]
  },
  {
   "cell_type": "code",
   "execution_count": 259,
   "id": "ed18aba9",
   "metadata": {},
   "outputs": [
    {
     "data": {
      "application/vnd.microsoft.datawrangler.viewer.v0+json": {
       "columns": [
        {
         "name": "index",
         "rawType": "int64",
         "type": "integer"
        },
        {
         "name": "InvoiceNo",
         "rawType": "object",
         "type": "string"
        },
        {
         "name": "StockCode",
         "rawType": "object",
         "type": "string"
        },
        {
         "name": "Description",
         "rawType": "object",
         "type": "string"
        },
        {
         "name": "Quantity",
         "rawType": "int64",
         "type": "integer"
        },
        {
         "name": "InvoiceDate",
         "rawType": "object",
         "type": "string"
        },
        {
         "name": "UnitPrice",
         "rawType": "float64",
         "type": "float"
        },
        {
         "name": "CustomerID",
         "rawType": "float64",
         "type": "float"
        },
        {
         "name": "Country",
         "rawType": "object",
         "type": "string"
        }
       ],
       "ref": "c4eeabc5-7ea0-4a0c-8852-86e2948364b9",
       "rows": [
        [
         "141",
         "C536379",
         "D",
         "Discount",
         "-1",
         "2022-12-01 09:41:00",
         "27.5",
         "14527.0",
         "United Kingdom"
        ],
        [
         "154",
         "C536383",
         "35004C",
         "SET OF 3 COLOURED  FLYING DUCKS",
         "-1",
         "2022-12-01 09:49:00",
         "4.65",
         "15311.0",
         "United Kingdom"
        ],
        [
         "235",
         "C536391",
         "22556",
         "PLASTERS IN TIN CIRCUS PARADE ",
         "-12",
         "2022-12-01 10:24:00",
         "1.65",
         "17548.0",
         "United Kingdom"
        ],
        [
         "236",
         "C536391",
         "21984",
         "PACK OF 12 PINK PAISLEY TISSUES ",
         "-24",
         "2022-12-01 10:24:00",
         "0.29",
         "17548.0",
         "United Kingdom"
        ],
        [
         "237",
         "C536391",
         "21983",
         "PACK OF 12 BLUE PAISLEY TISSUES ",
         "-24",
         "2022-12-01 10:24:00",
         "0.29",
         "17548.0",
         "United Kingdom"
        ],
        [
         "238",
         "C536391",
         "21980",
         "PACK OF 12 RED RETROSPOT TISSUES ",
         "-24",
         "2022-12-01 10:24:00",
         "0.29",
         "17548.0",
         "United Kingdom"
        ],
        [
         "239",
         "C536391",
         "21484",
         "CHICK GREY HOT WATER BOTTLE",
         "-12",
         "2022-12-01 10:24:00",
         "3.45",
         "17548.0",
         "United Kingdom"
        ],
        [
         "240",
         "C536391",
         "22557",
         "PLASTERS IN TIN VINTAGE PAISLEY ",
         "-12",
         "2022-12-01 10:24:00",
         "1.65",
         "17548.0",
         "United Kingdom"
        ],
        [
         "241",
         "C536391",
         "22553",
         "PLASTERS IN TIN SKULLS",
         "-24",
         "2022-12-01 10:24:00",
         "1.65",
         "17548.0",
         "United Kingdom"
        ],
        [
         "939",
         "C536506",
         "22960",
         "JAM MAKING SET WITH JARS",
         "-6",
         "2022-12-01 12:38:00",
         "4.25",
         "17897.0",
         "United Kingdom"
        ],
        [
         "1441",
         "C536543",
         "22632",
         "HAND WARMER RED RETROSPOT",
         "-1",
         "2022-12-01 14:30:00",
         "2.1",
         "17841.0",
         "United Kingdom"
        ],
        [
         "1442",
         "C536543",
         "22355",
         "CHARLOTTE BAG SUKI DESIGN",
         "-2",
         "2022-12-01 14:30:00",
         "0.85",
         "17841.0",
         "United Kingdom"
        ],
        [
         "1973",
         "C536548",
         "22244",
         "3 HOOK HANGER MAGIC GARDEN",
         "-4",
         "2022-12-01 14:33:00",
         "1.95",
         "12472.0",
         "Germany"
        ],
        [
         "1974",
         "C536548",
         "22242",
         "5 HOOK HANGER MAGIC TOADSTOOL",
         "-5",
         "2022-12-01 14:33:00",
         "1.65",
         "12472.0",
         "Germany"
        ],
        [
         "1975",
         "C536548",
         "20914",
         "SET/5 RED RETROSPOT LID GLASS BOWLS",
         "-1",
         "2022-12-01 14:33:00",
         "2.95",
         "12472.0",
         "Germany"
        ],
        [
         "1976",
         "C536548",
         "22892",
         "SET OF SALT AND PEPPER TOADSTOOLS",
         "-7",
         "2022-12-01 14:33:00",
         "1.25",
         "12472.0",
         "Germany"
        ],
        [
         "1977",
         "C536548",
         "22654",
         "DELUXE SEWING KIT ",
         "-1",
         "2022-12-01 14:33:00",
         "5.95",
         "12472.0",
         "Germany"
        ],
        [
         "1978",
         "C536548",
         "22767",
         "TRIPLE PHOTO FRAME CORNICE ",
         "-2",
         "2022-12-01 14:33:00",
         "9.95",
         "12472.0",
         "Germany"
        ],
        [
         "1979",
         "C536548",
         "22333",
         "RETROSPOT PARTY BAG + STICKER SET",
         "-1",
         "2022-12-01 14:33:00",
         "1.65",
         "12472.0",
         "Germany"
        ],
        [
         "1980",
         "C536548",
         "22245",
         "HOOK, 1 HANGER ,MAGIC GARDEN",
         "-2",
         "2022-12-01 14:33:00",
         "0.85",
         "12472.0",
         "Germany"
        ],
        [
         "1981",
         "C536548",
         "22077",
         "6 RIBBONS RUSTIC CHARM",
         "-6",
         "2022-12-01 14:33:00",
         "1.65",
         "12472.0",
         "Germany"
        ],
        [
         "1982",
         "C536548",
         "22631",
         "CIRCUS PARADE LUNCH BOX ",
         "-1",
         "2022-12-01 14:33:00",
         "1.95",
         "12472.0",
         "Germany"
        ],
        [
         "1983",
         "C536548",
         "22168",
         "ORGANISER WOOD ANTIQUE WHITE ",
         "-2",
         "2022-12-01 14:33:00",
         "8.5",
         "12472.0",
         "Germany"
        ],
        [
         "1984",
         "C536548",
         "21218",
         "RED SPOTTY BISCUIT TIN",
         "-3",
         "2022-12-01 14:33:00",
         "3.75",
         "12472.0",
         "Germany"
        ],
        [
         "1985",
         "C536548",
         "20957",
         "PORCELAIN HANGING BELL SMALL",
         "-1",
         "2022-12-01 14:33:00",
         "1.45",
         "12472.0",
         "Germany"
        ],
        [
         "1986",
         "C536548",
         "22580",
         "ADVENT CALENDAR GINGHAM SACK",
         "-4",
         "2022-12-01 14:33:00",
         "5.95",
         "12472.0",
         "Germany"
        ],
        [
         "3170",
         "C536606",
         "20914",
         "SET/5 RED RETROSPOT LID GLASS BOWLS",
         "-2",
         "2022-12-02 09:10:00",
         "2.95",
         "14092.0",
         "United Kingdom"
        ],
        [
         "3338",
         "C536622",
         "22752",
         "SET 7 BABUSHKA NESTING BOXES",
         "-2",
         "2022-12-02 10:37:00",
         "8.5",
         "12471.0",
         "Germany"
        ],
        [
         "3410",
         "C536625",
         "22839",
         "3 TIER CAKE TIN GREEN AND CREAM",
         "-2",
         "2022-12-02 10:46:00",
         "14.95",
         "14766.0",
         "United Kingdom"
        ],
        [
         "3693",
         "C536642",
         "21463",
         "MIRRORED DISCO BALL ",
         "-1",
         "2022-12-02 11:56:00",
         "5.95",
         "14390.0",
         "United Kingdom"
        ],
        [
         "3911",
         "C536734",
         "22780",
         "LIGHT GARLAND BUTTERFILES PINK",
         "-4",
         "2022-12-02 12:50:00",
         "4.25",
         "16042.0",
         "United Kingdom"
        ],
        [
         "3912",
         "C536734",
         "85048",
         "15CM CHRISTMAS GLASS BALL 20 LIGHTS",
         "-1",
         "2022-12-02 12:50:00",
         "7.95",
         "16042.0",
         "United Kingdom"
        ],
        [
         "3919",
         "C536737",
         "22798",
         "ANTIQUE GLASS DRESSING TABLE POT",
         "-2",
         "2022-12-02 13:05:00",
         "2.95",
         "15922.0",
         "United Kingdom"
        ],
        [
         "4287",
         "C536757",
         "84347",
         "ROTATING SILVER ANGELS T-LIGHT HLDR",
         "-9360",
         "2022-12-02 14:23:00",
         "0.03",
         "15838.0",
         "United Kingdom"
        ],
        [
         "4288",
         "C536758",
         "21314",
         "SMALL GLASS HEART TRINKET POT",
         "-1",
         "2022-12-02 14:25:00",
         "2.1",
         "13767.0",
         "United Kingdom"
        ],
        [
         "4306",
         "C536760",
         "22175",
         "PINK OWL SOFT TOY",
         "-1",
         "2022-12-02 14:29:00",
         "2.95",
         "17547.0",
         "United Kingdom"
        ],
        [
         "4307",
         "C536760",
         "22273",
         "FELTCRAFT DOLL MOLLY",
         "-3",
         "2022-12-02 14:29:00",
         "2.95",
         "17547.0",
         "United Kingdom"
        ],
        [
         "4836",
         "C536807",
         "22501",
         "PICNIC BASKET WICKER LARGE",
         "-2",
         "2022-12-02 16:45:00",
         "9.95",
         "15834.0",
         "United Kingdom"
        ],
        [
         "4837",
         "C536807",
         "22778",
         "GLASS CLOCHE SMALL",
         "-1",
         "2022-12-02 16:45:00",
         "3.95",
         "15834.0",
         "United Kingdom"
        ],
        [
         "4853",
         "C536812",
         "22578",
         "WOODEN STAR CHRISTMAS SCANDINAVIAN",
         "-36",
         "2022-12-02 16:58:00",
         "0.85",
         "16546.0",
         "United Kingdom"
        ],
        [
         "4854",
         "C536812",
         "22574",
         "HEART WOODEN CHRISTMAS DECORATION",
         "-192",
         "2022-12-02 16:58:00",
         "0.72",
         "16546.0",
         "United Kingdom"
        ],
        [
         "4855",
         "C536812",
         "22593",
         "CHRISTMAS GINGHAM STAR",
         "-144",
         "2022-12-02 16:58:00",
         "0.72",
         "16546.0",
         "United Kingdom"
        ],
        [
         "4856",
         "C536812",
         "22595",
         "CHRISTMAS GINGHAM HEART",
         "-144",
         "2022-12-02 16:58:00",
         "0.72",
         "16546.0",
         "United Kingdom"
        ],
        [
         "4857",
         "C536812",
         "22588",
         "CARD HOLDER GINGHAM HEART",
         "-192",
         "2022-12-02 16:58:00",
         "2.1",
         "16546.0",
         "United Kingdom"
        ],
        [
         "4858",
         "C536812",
         "22130",
         "PARTY CONE CHRISTMAS DECORATION ",
         "-144",
         "2022-12-02 16:58:00",
         "0.72",
         "16546.0",
         "United Kingdom"
        ],
        [
         "4876",
         "C536814",
         "21527",
         "RED RETROSPOT TRADITIONAL TEAPOT ",
         "-2",
         "2022-12-02 17:03:00",
         "7.95",
         "13958.0",
         "United Kingdom"
        ],
        [
         "4877",
         "C536814",
         "72799E",
         "IVORY PILLAR CANDLE SILVER FLOCK",
         "-6",
         "2022-12-02 17:03:00",
         "2.95",
         "13958.0",
         "United Kingdom"
        ],
        [
         "4878",
         "C536814",
         "85066",
         "CREAM SWEETHEART MINI CHEST",
         "-2",
         "2022-12-02 17:03:00",
         "12.75",
         "13958.0",
         "United Kingdom"
        ],
        [
         "4879",
         "C536814",
         "21586",
         "KINGS CHOICE GIANT TUBE MATCHES",
         "-12",
         "2022-12-02 17:03:00",
         "2.55",
         "13958.0",
         "United Kingdom"
        ],
        [
         "4880",
         "C536814",
         "21258",
         "VICTORIAN SEWING BOX LARGE",
         "-1",
         "2022-12-02 17:03:00",
         "12.75",
         "13958.0",
         "United Kingdom"
        ]
       ],
       "shape": {
        "columns": 8,
        "rows": 9288
       }
      },
      "text/html": [
       "<div>\n",
       "<style scoped>\n",
       "    .dataframe tbody tr th:only-of-type {\n",
       "        vertical-align: middle;\n",
       "    }\n",
       "\n",
       "    .dataframe tbody tr th {\n",
       "        vertical-align: top;\n",
       "    }\n",
       "\n",
       "    .dataframe thead th {\n",
       "        text-align: right;\n",
       "    }\n",
       "</style>\n",
       "<table border=\"1\" class=\"dataframe\">\n",
       "  <thead>\n",
       "    <tr style=\"text-align: right;\">\n",
       "      <th></th>\n",
       "      <th>InvoiceNo</th>\n",
       "      <th>StockCode</th>\n",
       "      <th>Description</th>\n",
       "      <th>Quantity</th>\n",
       "      <th>InvoiceDate</th>\n",
       "      <th>UnitPrice</th>\n",
       "      <th>CustomerID</th>\n",
       "      <th>Country</th>\n",
       "    </tr>\n",
       "  </thead>\n",
       "  <tbody>\n",
       "    <tr>\n",
       "      <th>141</th>\n",
       "      <td>C536379</td>\n",
       "      <td>D</td>\n",
       "      <td>Discount</td>\n",
       "      <td>-1</td>\n",
       "      <td>2022-12-01 09:41:00</td>\n",
       "      <td>27.50</td>\n",
       "      <td>14527.0</td>\n",
       "      <td>United Kingdom</td>\n",
       "    </tr>\n",
       "    <tr>\n",
       "      <th>154</th>\n",
       "      <td>C536383</td>\n",
       "      <td>35004C</td>\n",
       "      <td>SET OF 3 COLOURED  FLYING DUCKS</td>\n",
       "      <td>-1</td>\n",
       "      <td>2022-12-01 09:49:00</td>\n",
       "      <td>4.65</td>\n",
       "      <td>15311.0</td>\n",
       "      <td>United Kingdom</td>\n",
       "    </tr>\n",
       "    <tr>\n",
       "      <th>235</th>\n",
       "      <td>C536391</td>\n",
       "      <td>22556</td>\n",
       "      <td>PLASTERS IN TIN CIRCUS PARADE</td>\n",
       "      <td>-12</td>\n",
       "      <td>2022-12-01 10:24:00</td>\n",
       "      <td>1.65</td>\n",
       "      <td>17548.0</td>\n",
       "      <td>United Kingdom</td>\n",
       "    </tr>\n",
       "    <tr>\n",
       "      <th>236</th>\n",
       "      <td>C536391</td>\n",
       "      <td>21984</td>\n",
       "      <td>PACK OF 12 PINK PAISLEY TISSUES</td>\n",
       "      <td>-24</td>\n",
       "      <td>2022-12-01 10:24:00</td>\n",
       "      <td>0.29</td>\n",
       "      <td>17548.0</td>\n",
       "      <td>United Kingdom</td>\n",
       "    </tr>\n",
       "    <tr>\n",
       "      <th>237</th>\n",
       "      <td>C536391</td>\n",
       "      <td>21983</td>\n",
       "      <td>PACK OF 12 BLUE PAISLEY TISSUES</td>\n",
       "      <td>-24</td>\n",
       "      <td>2022-12-01 10:24:00</td>\n",
       "      <td>0.29</td>\n",
       "      <td>17548.0</td>\n",
       "      <td>United Kingdom</td>\n",
       "    </tr>\n",
       "    <tr>\n",
       "      <th>...</th>\n",
       "      <td>...</td>\n",
       "      <td>...</td>\n",
       "      <td>...</td>\n",
       "      <td>...</td>\n",
       "      <td>...</td>\n",
       "      <td>...</td>\n",
       "      <td>...</td>\n",
       "      <td>...</td>\n",
       "    </tr>\n",
       "    <tr>\n",
       "      <th>540449</th>\n",
       "      <td>C581490</td>\n",
       "      <td>23144</td>\n",
       "      <td>ZINC T-LIGHT HOLDER STARS SMALL</td>\n",
       "      <td>-11</td>\n",
       "      <td>2023-12-09 09:57:00</td>\n",
       "      <td>0.83</td>\n",
       "      <td>14397.0</td>\n",
       "      <td>United Kingdom</td>\n",
       "    </tr>\n",
       "    <tr>\n",
       "      <th>541541</th>\n",
       "      <td>C581499</td>\n",
       "      <td>M</td>\n",
       "      <td>Manual</td>\n",
       "      <td>-1</td>\n",
       "      <td>2023-12-09 10:28:00</td>\n",
       "      <td>224.69</td>\n",
       "      <td>15498.0</td>\n",
       "      <td>United Kingdom</td>\n",
       "    </tr>\n",
       "    <tr>\n",
       "      <th>541715</th>\n",
       "      <td>C581568</td>\n",
       "      <td>21258</td>\n",
       "      <td>VICTORIAN SEWING BOX LARGE</td>\n",
       "      <td>-5</td>\n",
       "      <td>2023-12-09 11:57:00</td>\n",
       "      <td>10.95</td>\n",
       "      <td>15311.0</td>\n",
       "      <td>United Kingdom</td>\n",
       "    </tr>\n",
       "    <tr>\n",
       "      <th>541716</th>\n",
       "      <td>C581569</td>\n",
       "      <td>84978</td>\n",
       "      <td>HANGING HEART JAR T-LIGHT HOLDER</td>\n",
       "      <td>-1</td>\n",
       "      <td>2023-12-09 11:58:00</td>\n",
       "      <td>1.25</td>\n",
       "      <td>17315.0</td>\n",
       "      <td>United Kingdom</td>\n",
       "    </tr>\n",
       "    <tr>\n",
       "      <th>541717</th>\n",
       "      <td>C581569</td>\n",
       "      <td>20979</td>\n",
       "      <td>36 PENCILS TUBE RED RETROSPOT</td>\n",
       "      <td>-5</td>\n",
       "      <td>2023-12-09 11:58:00</td>\n",
       "      <td>1.25</td>\n",
       "      <td>17315.0</td>\n",
       "      <td>United Kingdom</td>\n",
       "    </tr>\n",
       "  </tbody>\n",
       "</table>\n",
       "<p>9288 rows × 8 columns</p>\n",
       "</div>"
      ],
      "text/plain": [
       "       InvoiceNo StockCode                       Description  Quantity  \\\n",
       "141      C536379         D                          Discount        -1   \n",
       "154      C536383    35004C   SET OF 3 COLOURED  FLYING DUCKS        -1   \n",
       "235      C536391     22556    PLASTERS IN TIN CIRCUS PARADE        -12   \n",
       "236      C536391     21984  PACK OF 12 PINK PAISLEY TISSUES        -24   \n",
       "237      C536391     21983  PACK OF 12 BLUE PAISLEY TISSUES        -24   \n",
       "...          ...       ...                               ...       ...   \n",
       "540449   C581490     23144   ZINC T-LIGHT HOLDER STARS SMALL       -11   \n",
       "541541   C581499         M                            Manual        -1   \n",
       "541715   C581568     21258        VICTORIAN SEWING BOX LARGE        -5   \n",
       "541716   C581569     84978  HANGING HEART JAR T-LIGHT HOLDER        -1   \n",
       "541717   C581569     20979     36 PENCILS TUBE RED RETROSPOT        -5   \n",
       "\n",
       "                InvoiceDate  UnitPrice  CustomerID         Country  \n",
       "141     2022-12-01 09:41:00      27.50     14527.0  United Kingdom  \n",
       "154     2022-12-01 09:49:00       4.65     15311.0  United Kingdom  \n",
       "235     2022-12-01 10:24:00       1.65     17548.0  United Kingdom  \n",
       "236     2022-12-01 10:24:00       0.29     17548.0  United Kingdom  \n",
       "237     2022-12-01 10:24:00       0.29     17548.0  United Kingdom  \n",
       "...                     ...        ...         ...             ...  \n",
       "540449  2023-12-09 09:57:00       0.83     14397.0  United Kingdom  \n",
       "541541  2023-12-09 10:28:00     224.69     15498.0  United Kingdom  \n",
       "541715  2023-12-09 11:57:00      10.95     15311.0  United Kingdom  \n",
       "541716  2023-12-09 11:58:00       1.25     17315.0  United Kingdom  \n",
       "541717  2023-12-09 11:58:00       1.25     17315.0  United Kingdom  \n",
       "\n",
       "[9288 rows x 8 columns]"
      ]
     },
     "execution_count": 259,
     "metadata": {},
     "output_type": "execute_result"
    }
   ],
   "source": [
    "df_clean[df_clean['InvoiceNo'].str.startswith('C')]"
   ]
  },
  {
   "cell_type": "code",
   "execution_count": 260,
   "id": "500dd205",
   "metadata": {},
   "outputs": [],
   "source": [
    "df_clean = df_clean[~df_clean['InvoiceNo'].astype(str).str.startswith('C')]"
   ]
  },
  {
   "cell_type": "markdown",
   "id": "c382ffeb",
   "metadata": {},
   "source": [
    "Fixing quantity and unit price:"
   ]
  },
  {
   "cell_type": "code",
   "execution_count": 261,
   "id": "678184f8",
   "metadata": {},
   "outputs": [],
   "source": [
    "df_clean = df_clean[(df_clean['Quantity'] > 0) & (df_clean['UnitPrice'] > 0)]"
   ]
  },
  {
   "cell_type": "markdown",
   "id": "6ba01b7a",
   "metadata": {},
   "source": [
    "Date conversion:"
   ]
  },
  {
   "cell_type": "code",
   "execution_count": 262,
   "id": "c15c127f",
   "metadata": {},
   "outputs": [],
   "source": [
    "df_clean['InvoiceDate'] = pd.to_datetime(df_clean['InvoiceDate'])"
   ]
  },
  {
   "cell_type": "markdown",
   "id": "a0f58fb7",
   "metadata": {},
   "source": [
    "Drop nulls:"
   ]
  },
  {
   "cell_type": "code",
   "execution_count": 263,
   "id": "b4873cc6",
   "metadata": {},
   "outputs": [],
   "source": [
    "df_clean.dropna(inplace=True)"
   ]
  },
  {
   "cell_type": "markdown",
   "id": "38a9da7d",
   "metadata": {},
   "source": [
    "Drop unwanted columns:"
   ]
  },
  {
   "cell_type": "code",
   "execution_count": 264,
   "id": "9460475c",
   "metadata": {},
   "outputs": [],
   "source": [
    "df_clean = df_clean.drop(columns=['InvoiceNo','StockCode','CustomerID'])"
   ]
  },
  {
   "cell_type": "code",
   "execution_count": 265,
   "id": "ff6c77ec",
   "metadata": {},
   "outputs": [
    {
     "data": {
      "application/vnd.microsoft.datawrangler.viewer.v0+json": {
       "columns": [
        {
         "name": "index",
         "rawType": "int64",
         "type": "integer"
        },
        {
         "name": "Description",
         "rawType": "object",
         "type": "string"
        },
        {
         "name": "Quantity",
         "rawType": "int64",
         "type": "integer"
        },
        {
         "name": "InvoiceDate",
         "rawType": "datetime64[ns]",
         "type": "datetime"
        },
        {
         "name": "UnitPrice",
         "rawType": "float64",
         "type": "float"
        },
        {
         "name": "Country",
         "rawType": "object",
         "type": "string"
        }
       ],
       "ref": "25ff864b-edeb-42c7-af06-575de2d5f3fa",
       "rows": [
        [
         "0",
         "WHITE HANGING HEART T-LIGHT HOLDER",
         "6",
         "2022-12-01 08:26:00",
         "2.55",
         "United Kingdom"
        ],
        [
         "1",
         "WHITE METAL LANTERN",
         "6",
         "2022-12-01 08:26:00",
         "3.39",
         "United Kingdom"
        ],
        [
         "2",
         "CREAM CUPID HEARTS COAT HANGER",
         "8",
         "2022-12-01 08:26:00",
         "2.75",
         "United Kingdom"
        ],
        [
         "3",
         "KNITTED UNION FLAG HOT WATER BOTTLE",
         "6",
         "2022-12-01 08:26:00",
         "3.39",
         "United Kingdom"
        ],
        [
         "4",
         "RED WOOLLY HOTTIE WHITE HEART.",
         "6",
         "2022-12-01 08:26:00",
         "3.39",
         "United Kingdom"
        ],
        [
         "5",
         "SET 7 BABUSHKA NESTING BOXES",
         "2",
         "2022-12-01 08:26:00",
         "7.65",
         "United Kingdom"
        ],
        [
         "6",
         "GLASS STAR FROSTED T-LIGHT HOLDER",
         "6",
         "2022-12-01 08:26:00",
         "4.25",
         "United Kingdom"
        ],
        [
         "7",
         "HAND WARMER UNION JACK",
         "6",
         "2022-12-01 08:28:00",
         "1.85",
         "United Kingdom"
        ],
        [
         "8",
         "HAND WARMER RED POLKA DOT",
         "6",
         "2022-12-01 08:28:00",
         "1.85",
         "United Kingdom"
        ],
        [
         "9",
         "ASSORTED COLOUR BIRD ORNAMENT",
         "32",
         "2022-12-01 08:34:00",
         "1.69",
         "United Kingdom"
        ],
        [
         "10",
         "POPPY'S PLAYHOUSE BEDROOM ",
         "6",
         "2022-12-01 08:34:00",
         "2.1",
         "United Kingdom"
        ],
        [
         "11",
         "POPPY'S PLAYHOUSE KITCHEN",
         "6",
         "2022-12-01 08:34:00",
         "2.1",
         "United Kingdom"
        ],
        [
         "12",
         "FELTCRAFT PRINCESS CHARLOTTE DOLL",
         "8",
         "2022-12-01 08:34:00",
         "3.75",
         "United Kingdom"
        ],
        [
         "13",
         "IVORY KNITTED MUG COSY ",
         "6",
         "2022-12-01 08:34:00",
         "1.65",
         "United Kingdom"
        ],
        [
         "14",
         "BOX OF 6 ASSORTED COLOUR TEASPOONS",
         "6",
         "2022-12-01 08:34:00",
         "4.25",
         "United Kingdom"
        ],
        [
         "15",
         "BOX OF VINTAGE JIGSAW BLOCKS ",
         "3",
         "2022-12-01 08:34:00",
         "4.95",
         "United Kingdom"
        ],
        [
         "16",
         "BOX OF VINTAGE ALPHABET BLOCKS",
         "2",
         "2022-12-01 08:34:00",
         "9.95",
         "United Kingdom"
        ],
        [
         "17",
         "HOME BUILDING BLOCK WORD",
         "3",
         "2022-12-01 08:34:00",
         "5.95",
         "United Kingdom"
        ],
        [
         "18",
         "LOVE BUILDING BLOCK WORD",
         "3",
         "2022-12-01 08:34:00",
         "5.95",
         "United Kingdom"
        ],
        [
         "19",
         "RECIPE BOX WITH METAL HEART",
         "4",
         "2022-12-01 08:34:00",
         "7.95",
         "United Kingdom"
        ],
        [
         "20",
         "DOORMAT NEW ENGLAND",
         "4",
         "2022-12-01 08:34:00",
         "7.95",
         "United Kingdom"
        ],
        [
         "21",
         "JAM MAKING SET WITH JARS",
         "6",
         "2022-12-01 08:34:00",
         "4.25",
         "United Kingdom"
        ],
        [
         "22",
         "RED COAT RACK PARIS FASHION",
         "3",
         "2022-12-01 08:34:00",
         "4.95",
         "United Kingdom"
        ],
        [
         "23",
         "YELLOW COAT RACK PARIS FASHION",
         "3",
         "2022-12-01 08:34:00",
         "4.95",
         "United Kingdom"
        ],
        [
         "24",
         "BLUE COAT RACK PARIS FASHION",
         "3",
         "2022-12-01 08:34:00",
         "4.95",
         "United Kingdom"
        ],
        [
         "25",
         "BATH BUILDING BLOCK WORD",
         "3",
         "2022-12-01 08:35:00",
         "5.95",
         "United Kingdom"
        ],
        [
         "26",
         "ALARM CLOCK BAKELIKE PINK",
         "24",
         "2022-12-01 08:45:00",
         "3.75",
         "France"
        ],
        [
         "27",
         "ALARM CLOCK BAKELIKE RED ",
         "24",
         "2022-12-01 08:45:00",
         "3.75",
         "France"
        ],
        [
         "28",
         "ALARM CLOCK BAKELIKE GREEN",
         "12",
         "2022-12-01 08:45:00",
         "3.75",
         "France"
        ],
        [
         "29",
         "PANDA AND BUNNIES STICKER SHEET",
         "12",
         "2022-12-01 08:45:00",
         "0.85",
         "France"
        ],
        [
         "30",
         "STARS GIFT TAPE ",
         "24",
         "2022-12-01 08:45:00",
         "0.65",
         "France"
        ],
        [
         "31",
         "INFLATABLE POLITICAL GLOBE ",
         "48",
         "2022-12-01 08:45:00",
         "0.85",
         "France"
        ],
        [
         "32",
         "VINTAGE HEADS AND TAILS CARD GAME ",
         "24",
         "2022-12-01 08:45:00",
         "1.25",
         "France"
        ],
        [
         "33",
         "SET/2 RED RETROSPOT TEA TOWELS ",
         "18",
         "2022-12-01 08:45:00",
         "2.95",
         "France"
        ],
        [
         "34",
         "ROUND SNACK BOXES SET OF4 WOODLAND ",
         "24",
         "2022-12-01 08:45:00",
         "2.95",
         "France"
        ],
        [
         "35",
         "SPACEBOY LUNCH BOX ",
         "24",
         "2022-12-01 08:45:00",
         "1.95",
         "France"
        ],
        [
         "36",
         "LUNCH BOX I LOVE LONDON",
         "24",
         "2022-12-01 08:45:00",
         "1.95",
         "France"
        ],
        [
         "37",
         "CIRCUS PARADE LUNCH BOX ",
         "24",
         "2022-12-01 08:45:00",
         "1.95",
         "France"
        ],
        [
         "38",
         "CHARLOTTE BAG DOLLY GIRL DESIGN",
         "20",
         "2022-12-01 08:45:00",
         "0.85",
         "France"
        ],
        [
         "39",
         "RED TOADSTOOL LED NIGHT LIGHT",
         "24",
         "2022-12-01 08:45:00",
         "1.65",
         "France"
        ],
        [
         "40",
         " SET 2 TEA TOWELS I LOVE LONDON ",
         "24",
         "2022-12-01 08:45:00",
         "2.95",
         "France"
        ],
        [
         "41",
         "VINTAGE SEASIDE JIGSAW PUZZLES",
         "12",
         "2022-12-01 08:45:00",
         "3.75",
         "France"
        ],
        [
         "42",
         "MINI JIGSAW CIRCUS PARADE ",
         "24",
         "2022-12-01 08:45:00",
         "0.42",
         "France"
        ],
        [
         "43",
         "MINI JIGSAW SPACEBOY",
         "24",
         "2022-12-01 08:45:00",
         "0.42",
         "France"
        ],
        [
         "44",
         "MINI PAINT SET VINTAGE ",
         "36",
         "2022-12-01 08:45:00",
         "0.65",
         "France"
        ],
        [
         "45",
         "POSTAGE",
         "3",
         "2022-12-01 08:45:00",
         "18.0",
         "France"
        ],
        [
         "46",
         "PAPER CHAIN KIT 50'S CHRISTMAS ",
         "80",
         "2022-12-01 09:00:00",
         "2.55",
         "United Kingdom"
        ],
        [
         "47",
         "HAND WARMER RED POLKA DOT",
         "6",
         "2022-12-01 09:01:00",
         "1.85",
         "United Kingdom"
        ],
        [
         "48",
         "HAND WARMER UNION JACK",
         "6",
         "2022-12-01 09:01:00",
         "1.85",
         "United Kingdom"
        ],
        [
         "49",
         "WHITE HANGING HEART T-LIGHT HOLDER",
         "6",
         "2022-12-01 09:02:00",
         "2.55",
         "United Kingdom"
        ]
       ],
       "shape": {
        "columns": 5,
        "rows": 397884
       }
      },
      "text/html": [
       "<div>\n",
       "<style scoped>\n",
       "    .dataframe tbody tr th:only-of-type {\n",
       "        vertical-align: middle;\n",
       "    }\n",
       "\n",
       "    .dataframe tbody tr th {\n",
       "        vertical-align: top;\n",
       "    }\n",
       "\n",
       "    .dataframe thead th {\n",
       "        text-align: right;\n",
       "    }\n",
       "</style>\n",
       "<table border=\"1\" class=\"dataframe\">\n",
       "  <thead>\n",
       "    <tr style=\"text-align: right;\">\n",
       "      <th></th>\n",
       "      <th>Description</th>\n",
       "      <th>Quantity</th>\n",
       "      <th>InvoiceDate</th>\n",
       "      <th>UnitPrice</th>\n",
       "      <th>Country</th>\n",
       "    </tr>\n",
       "  </thead>\n",
       "  <tbody>\n",
       "    <tr>\n",
       "      <th>0</th>\n",
       "      <td>WHITE HANGING HEART T-LIGHT HOLDER</td>\n",
       "      <td>6</td>\n",
       "      <td>2022-12-01 08:26:00</td>\n",
       "      <td>2.55</td>\n",
       "      <td>United Kingdom</td>\n",
       "    </tr>\n",
       "    <tr>\n",
       "      <th>1</th>\n",
       "      <td>WHITE METAL LANTERN</td>\n",
       "      <td>6</td>\n",
       "      <td>2022-12-01 08:26:00</td>\n",
       "      <td>3.39</td>\n",
       "      <td>United Kingdom</td>\n",
       "    </tr>\n",
       "    <tr>\n",
       "      <th>2</th>\n",
       "      <td>CREAM CUPID HEARTS COAT HANGER</td>\n",
       "      <td>8</td>\n",
       "      <td>2022-12-01 08:26:00</td>\n",
       "      <td>2.75</td>\n",
       "      <td>United Kingdom</td>\n",
       "    </tr>\n",
       "    <tr>\n",
       "      <th>3</th>\n",
       "      <td>KNITTED UNION FLAG HOT WATER BOTTLE</td>\n",
       "      <td>6</td>\n",
       "      <td>2022-12-01 08:26:00</td>\n",
       "      <td>3.39</td>\n",
       "      <td>United Kingdom</td>\n",
       "    </tr>\n",
       "    <tr>\n",
       "      <th>4</th>\n",
       "      <td>RED WOOLLY HOTTIE WHITE HEART.</td>\n",
       "      <td>6</td>\n",
       "      <td>2022-12-01 08:26:00</td>\n",
       "      <td>3.39</td>\n",
       "      <td>United Kingdom</td>\n",
       "    </tr>\n",
       "    <tr>\n",
       "      <th>...</th>\n",
       "      <td>...</td>\n",
       "      <td>...</td>\n",
       "      <td>...</td>\n",
       "      <td>...</td>\n",
       "      <td>...</td>\n",
       "    </tr>\n",
       "    <tr>\n",
       "      <th>541904</th>\n",
       "      <td>PACK OF 20 SPACEBOY NAPKINS</td>\n",
       "      <td>12</td>\n",
       "      <td>2023-12-09 12:50:00</td>\n",
       "      <td>0.85</td>\n",
       "      <td>France</td>\n",
       "    </tr>\n",
       "    <tr>\n",
       "      <th>541905</th>\n",
       "      <td>CHILDREN'S APRON DOLLY GIRL</td>\n",
       "      <td>6</td>\n",
       "      <td>2023-12-09 12:50:00</td>\n",
       "      <td>2.10</td>\n",
       "      <td>France</td>\n",
       "    </tr>\n",
       "    <tr>\n",
       "      <th>541906</th>\n",
       "      <td>CHILDRENS CUTLERY DOLLY GIRL</td>\n",
       "      <td>4</td>\n",
       "      <td>2023-12-09 12:50:00</td>\n",
       "      <td>4.15</td>\n",
       "      <td>France</td>\n",
       "    </tr>\n",
       "    <tr>\n",
       "      <th>541907</th>\n",
       "      <td>CHILDRENS CUTLERY CIRCUS PARADE</td>\n",
       "      <td>4</td>\n",
       "      <td>2023-12-09 12:50:00</td>\n",
       "      <td>4.15</td>\n",
       "      <td>France</td>\n",
       "    </tr>\n",
       "    <tr>\n",
       "      <th>541908</th>\n",
       "      <td>BAKING SET 9 PIECE RETROSPOT</td>\n",
       "      <td>3</td>\n",
       "      <td>2023-12-09 12:50:00</td>\n",
       "      <td>4.95</td>\n",
       "      <td>France</td>\n",
       "    </tr>\n",
       "  </tbody>\n",
       "</table>\n",
       "<p>397884 rows × 5 columns</p>\n",
       "</div>"
      ],
      "text/plain": [
       "                                Description  Quantity         InvoiceDate  \\\n",
       "0        WHITE HANGING HEART T-LIGHT HOLDER         6 2022-12-01 08:26:00   \n",
       "1                       WHITE METAL LANTERN         6 2022-12-01 08:26:00   \n",
       "2            CREAM CUPID HEARTS COAT HANGER         8 2022-12-01 08:26:00   \n",
       "3       KNITTED UNION FLAG HOT WATER BOTTLE         6 2022-12-01 08:26:00   \n",
       "4            RED WOOLLY HOTTIE WHITE HEART.         6 2022-12-01 08:26:00   \n",
       "...                                     ...       ...                 ...   \n",
       "541904          PACK OF 20 SPACEBOY NAPKINS        12 2023-12-09 12:50:00   \n",
       "541905         CHILDREN'S APRON DOLLY GIRL          6 2023-12-09 12:50:00   \n",
       "541906        CHILDRENS CUTLERY DOLLY GIRL          4 2023-12-09 12:50:00   \n",
       "541907      CHILDRENS CUTLERY CIRCUS PARADE         4 2023-12-09 12:50:00   \n",
       "541908        BAKING SET 9 PIECE RETROSPOT          3 2023-12-09 12:50:00   \n",
       "\n",
       "        UnitPrice         Country  \n",
       "0            2.55  United Kingdom  \n",
       "1            3.39  United Kingdom  \n",
       "2            2.75  United Kingdom  \n",
       "3            3.39  United Kingdom  \n",
       "4            3.39  United Kingdom  \n",
       "...           ...             ...  \n",
       "541904       0.85          France  \n",
       "541905       2.10          France  \n",
       "541906       4.15          France  \n",
       "541907       4.15          France  \n",
       "541908       4.95          France  \n",
       "\n",
       "[397884 rows x 5 columns]"
      ]
     },
     "execution_count": 265,
     "metadata": {},
     "output_type": "execute_result"
    }
   ],
   "source": [
    "df_clean"
   ]
  },
  {
   "cell_type": "markdown",
   "id": "b7e7058c",
   "metadata": {},
   "source": [
    "Remove duplicates:"
   ]
  },
  {
   "cell_type": "code",
   "execution_count": 266,
   "id": "e214d5ac",
   "metadata": {},
   "outputs": [
    {
     "data": {
      "text/plain": [
       "np.int64(5442)"
      ]
     },
     "execution_count": 266,
     "metadata": {},
     "output_type": "execute_result"
    }
   ],
   "source": [
    "df_clean.duplicated().sum()"
   ]
  },
  {
   "cell_type": "code",
   "execution_count": 267,
   "id": "1b40c303",
   "metadata": {},
   "outputs": [],
   "source": [
    "df_clean.drop_duplicates(inplace=True)"
   ]
  },
  {
   "cell_type": "markdown",
   "id": "10edf463",
   "metadata": {},
   "source": [
    "Total price column:"
   ]
  },
  {
   "cell_type": "code",
   "execution_count": 268,
   "id": "4ff3e92b",
   "metadata": {},
   "outputs": [],
   "source": [
    "df_clean['TotalPrice'] = round(df_clean['Quantity'] * df_clean['UnitPrice'],2)"
   ]
  },
  {
   "cell_type": "markdown",
   "id": "9e830271",
   "metadata": {},
   "source": [
    "Reset index:"
   ]
  },
  {
   "cell_type": "code",
   "execution_count": 269,
   "id": "6785a176",
   "metadata": {},
   "outputs": [],
   "source": [
    "df_clean.reset_index(drop=True, inplace=True)"
   ]
  },
  {
   "cell_type": "markdown",
   "id": "82f45ad9",
   "metadata": {},
   "source": [
    "Dataset cleaned:"
   ]
  },
  {
   "cell_type": "code",
   "execution_count": 270,
   "id": "9a04dbff",
   "metadata": {},
   "outputs": [
    {
     "data": {
      "application/vnd.microsoft.datawrangler.viewer.v0+json": {
       "columns": [
        {
         "name": "index",
         "rawType": "int64",
         "type": "integer"
        },
        {
         "name": "Description",
         "rawType": "object",
         "type": "string"
        },
        {
         "name": "Quantity",
         "rawType": "int64",
         "type": "integer"
        },
        {
         "name": "InvoiceDate",
         "rawType": "datetime64[ns]",
         "type": "datetime"
        },
        {
         "name": "UnitPrice",
         "rawType": "float64",
         "type": "float"
        },
        {
         "name": "Country",
         "rawType": "object",
         "type": "string"
        },
        {
         "name": "TotalPrice",
         "rawType": "float64",
         "type": "float"
        }
       ],
       "ref": "fa698b50-20ae-47b0-8f50-4394a7c28935",
       "rows": [
        [
         "0",
         "WHITE HANGING HEART T-LIGHT HOLDER",
         "6",
         "2022-12-01 08:26:00",
         "2.55",
         "United Kingdom",
         "15.3"
        ],
        [
         "1",
         "WHITE METAL LANTERN",
         "6",
         "2022-12-01 08:26:00",
         "3.39",
         "United Kingdom",
         "20.34"
        ],
        [
         "2",
         "CREAM CUPID HEARTS COAT HANGER",
         "8",
         "2022-12-01 08:26:00",
         "2.75",
         "United Kingdom",
         "22.0"
        ],
        [
         "3",
         "KNITTED UNION FLAG HOT WATER BOTTLE",
         "6",
         "2022-12-01 08:26:00",
         "3.39",
         "United Kingdom",
         "20.34"
        ],
        [
         "4",
         "RED WOOLLY HOTTIE WHITE HEART.",
         "6",
         "2022-12-01 08:26:00",
         "3.39",
         "United Kingdom",
         "20.34"
        ],
        [
         "5",
         "SET 7 BABUSHKA NESTING BOXES",
         "2",
         "2022-12-01 08:26:00",
         "7.65",
         "United Kingdom",
         "15.3"
        ],
        [
         "6",
         "GLASS STAR FROSTED T-LIGHT HOLDER",
         "6",
         "2022-12-01 08:26:00",
         "4.25",
         "United Kingdom",
         "25.5"
        ],
        [
         "7",
         "HAND WARMER UNION JACK",
         "6",
         "2022-12-01 08:28:00",
         "1.85",
         "United Kingdom",
         "11.1"
        ],
        [
         "8",
         "HAND WARMER RED POLKA DOT",
         "6",
         "2022-12-01 08:28:00",
         "1.85",
         "United Kingdom",
         "11.1"
        ],
        [
         "9",
         "ASSORTED COLOUR BIRD ORNAMENT",
         "32",
         "2022-12-01 08:34:00",
         "1.69",
         "United Kingdom",
         "54.08"
        ],
        [
         "10",
         "POPPY'S PLAYHOUSE BEDROOM ",
         "6",
         "2022-12-01 08:34:00",
         "2.1",
         "United Kingdom",
         "12.6"
        ],
        [
         "11",
         "POPPY'S PLAYHOUSE KITCHEN",
         "6",
         "2022-12-01 08:34:00",
         "2.1",
         "United Kingdom",
         "12.6"
        ],
        [
         "12",
         "FELTCRAFT PRINCESS CHARLOTTE DOLL",
         "8",
         "2022-12-01 08:34:00",
         "3.75",
         "United Kingdom",
         "30.0"
        ],
        [
         "13",
         "IVORY KNITTED MUG COSY ",
         "6",
         "2022-12-01 08:34:00",
         "1.65",
         "United Kingdom",
         "9.9"
        ],
        [
         "14",
         "BOX OF 6 ASSORTED COLOUR TEASPOONS",
         "6",
         "2022-12-01 08:34:00",
         "4.25",
         "United Kingdom",
         "25.5"
        ],
        [
         "15",
         "BOX OF VINTAGE JIGSAW BLOCKS ",
         "3",
         "2022-12-01 08:34:00",
         "4.95",
         "United Kingdom",
         "14.85"
        ],
        [
         "16",
         "BOX OF VINTAGE ALPHABET BLOCKS",
         "2",
         "2022-12-01 08:34:00",
         "9.95",
         "United Kingdom",
         "19.9"
        ],
        [
         "17",
         "HOME BUILDING BLOCK WORD",
         "3",
         "2022-12-01 08:34:00",
         "5.95",
         "United Kingdom",
         "17.85"
        ],
        [
         "18",
         "LOVE BUILDING BLOCK WORD",
         "3",
         "2022-12-01 08:34:00",
         "5.95",
         "United Kingdom",
         "17.85"
        ],
        [
         "19",
         "RECIPE BOX WITH METAL HEART",
         "4",
         "2022-12-01 08:34:00",
         "7.95",
         "United Kingdom",
         "31.8"
        ],
        [
         "20",
         "DOORMAT NEW ENGLAND",
         "4",
         "2022-12-01 08:34:00",
         "7.95",
         "United Kingdom",
         "31.8"
        ],
        [
         "21",
         "JAM MAKING SET WITH JARS",
         "6",
         "2022-12-01 08:34:00",
         "4.25",
         "United Kingdom",
         "25.5"
        ],
        [
         "22",
         "RED COAT RACK PARIS FASHION",
         "3",
         "2022-12-01 08:34:00",
         "4.95",
         "United Kingdom",
         "14.85"
        ],
        [
         "23",
         "YELLOW COAT RACK PARIS FASHION",
         "3",
         "2022-12-01 08:34:00",
         "4.95",
         "United Kingdom",
         "14.85"
        ],
        [
         "24",
         "BLUE COAT RACK PARIS FASHION",
         "3",
         "2022-12-01 08:34:00",
         "4.95",
         "United Kingdom",
         "14.85"
        ],
        [
         "25",
         "BATH BUILDING BLOCK WORD",
         "3",
         "2022-12-01 08:35:00",
         "5.95",
         "United Kingdom",
         "17.85"
        ],
        [
         "26",
         "ALARM CLOCK BAKELIKE PINK",
         "24",
         "2022-12-01 08:45:00",
         "3.75",
         "France",
         "90.0"
        ],
        [
         "27",
         "ALARM CLOCK BAKELIKE RED ",
         "24",
         "2022-12-01 08:45:00",
         "3.75",
         "France",
         "90.0"
        ],
        [
         "28",
         "ALARM CLOCK BAKELIKE GREEN",
         "12",
         "2022-12-01 08:45:00",
         "3.75",
         "France",
         "45.0"
        ],
        [
         "29",
         "PANDA AND BUNNIES STICKER SHEET",
         "12",
         "2022-12-01 08:45:00",
         "0.85",
         "France",
         "10.2"
        ],
        [
         "30",
         "STARS GIFT TAPE ",
         "24",
         "2022-12-01 08:45:00",
         "0.65",
         "France",
         "15.6"
        ],
        [
         "31",
         "INFLATABLE POLITICAL GLOBE ",
         "48",
         "2022-12-01 08:45:00",
         "0.85",
         "France",
         "40.8"
        ],
        [
         "32",
         "VINTAGE HEADS AND TAILS CARD GAME ",
         "24",
         "2022-12-01 08:45:00",
         "1.25",
         "France",
         "30.0"
        ],
        [
         "33",
         "SET/2 RED RETROSPOT TEA TOWELS ",
         "18",
         "2022-12-01 08:45:00",
         "2.95",
         "France",
         "53.1"
        ],
        [
         "34",
         "ROUND SNACK BOXES SET OF4 WOODLAND ",
         "24",
         "2022-12-01 08:45:00",
         "2.95",
         "France",
         "70.8"
        ],
        [
         "35",
         "SPACEBOY LUNCH BOX ",
         "24",
         "2022-12-01 08:45:00",
         "1.95",
         "France",
         "46.8"
        ],
        [
         "36",
         "LUNCH BOX I LOVE LONDON",
         "24",
         "2022-12-01 08:45:00",
         "1.95",
         "France",
         "46.8"
        ],
        [
         "37",
         "CIRCUS PARADE LUNCH BOX ",
         "24",
         "2022-12-01 08:45:00",
         "1.95",
         "France",
         "46.8"
        ],
        [
         "38",
         "CHARLOTTE BAG DOLLY GIRL DESIGN",
         "20",
         "2022-12-01 08:45:00",
         "0.85",
         "France",
         "17.0"
        ],
        [
         "39",
         "RED TOADSTOOL LED NIGHT LIGHT",
         "24",
         "2022-12-01 08:45:00",
         "1.65",
         "France",
         "39.6"
        ],
        [
         "40",
         " SET 2 TEA TOWELS I LOVE LONDON ",
         "24",
         "2022-12-01 08:45:00",
         "2.95",
         "France",
         "70.8"
        ],
        [
         "41",
         "VINTAGE SEASIDE JIGSAW PUZZLES",
         "12",
         "2022-12-01 08:45:00",
         "3.75",
         "France",
         "45.0"
        ],
        [
         "42",
         "MINI JIGSAW CIRCUS PARADE ",
         "24",
         "2022-12-01 08:45:00",
         "0.42",
         "France",
         "10.08"
        ],
        [
         "43",
         "MINI JIGSAW SPACEBOY",
         "24",
         "2022-12-01 08:45:00",
         "0.42",
         "France",
         "10.08"
        ],
        [
         "44",
         "MINI PAINT SET VINTAGE ",
         "36",
         "2022-12-01 08:45:00",
         "0.65",
         "France",
         "23.4"
        ],
        [
         "45",
         "POSTAGE",
         "3",
         "2022-12-01 08:45:00",
         "18.0",
         "France",
         "54.0"
        ],
        [
         "46",
         "PAPER CHAIN KIT 50'S CHRISTMAS ",
         "80",
         "2022-12-01 09:00:00",
         "2.55",
         "United Kingdom",
         "204.0"
        ],
        [
         "47",
         "HAND WARMER RED POLKA DOT",
         "6",
         "2022-12-01 09:01:00",
         "1.85",
         "United Kingdom",
         "11.1"
        ],
        [
         "48",
         "HAND WARMER UNION JACK",
         "6",
         "2022-12-01 09:01:00",
         "1.85",
         "United Kingdom",
         "11.1"
        ],
        [
         "49",
         "WHITE HANGING HEART T-LIGHT HOLDER",
         "6",
         "2022-12-01 09:02:00",
         "2.55",
         "United Kingdom",
         "15.3"
        ]
       ],
       "shape": {
        "columns": 6,
        "rows": 392442
       }
      },
      "text/html": [
       "<div>\n",
       "<style scoped>\n",
       "    .dataframe tbody tr th:only-of-type {\n",
       "        vertical-align: middle;\n",
       "    }\n",
       "\n",
       "    .dataframe tbody tr th {\n",
       "        vertical-align: top;\n",
       "    }\n",
       "\n",
       "    .dataframe thead th {\n",
       "        text-align: right;\n",
       "    }\n",
       "</style>\n",
       "<table border=\"1\" class=\"dataframe\">\n",
       "  <thead>\n",
       "    <tr style=\"text-align: right;\">\n",
       "      <th></th>\n",
       "      <th>Description</th>\n",
       "      <th>Quantity</th>\n",
       "      <th>InvoiceDate</th>\n",
       "      <th>UnitPrice</th>\n",
       "      <th>Country</th>\n",
       "      <th>TotalPrice</th>\n",
       "    </tr>\n",
       "  </thead>\n",
       "  <tbody>\n",
       "    <tr>\n",
       "      <th>0</th>\n",
       "      <td>WHITE HANGING HEART T-LIGHT HOLDER</td>\n",
       "      <td>6</td>\n",
       "      <td>2022-12-01 08:26:00</td>\n",
       "      <td>2.55</td>\n",
       "      <td>United Kingdom</td>\n",
       "      <td>15.30</td>\n",
       "    </tr>\n",
       "    <tr>\n",
       "      <th>1</th>\n",
       "      <td>WHITE METAL LANTERN</td>\n",
       "      <td>6</td>\n",
       "      <td>2022-12-01 08:26:00</td>\n",
       "      <td>3.39</td>\n",
       "      <td>United Kingdom</td>\n",
       "      <td>20.34</td>\n",
       "    </tr>\n",
       "    <tr>\n",
       "      <th>2</th>\n",
       "      <td>CREAM CUPID HEARTS COAT HANGER</td>\n",
       "      <td>8</td>\n",
       "      <td>2022-12-01 08:26:00</td>\n",
       "      <td>2.75</td>\n",
       "      <td>United Kingdom</td>\n",
       "      <td>22.00</td>\n",
       "    </tr>\n",
       "    <tr>\n",
       "      <th>3</th>\n",
       "      <td>KNITTED UNION FLAG HOT WATER BOTTLE</td>\n",
       "      <td>6</td>\n",
       "      <td>2022-12-01 08:26:00</td>\n",
       "      <td>3.39</td>\n",
       "      <td>United Kingdom</td>\n",
       "      <td>20.34</td>\n",
       "    </tr>\n",
       "    <tr>\n",
       "      <th>4</th>\n",
       "      <td>RED WOOLLY HOTTIE WHITE HEART.</td>\n",
       "      <td>6</td>\n",
       "      <td>2022-12-01 08:26:00</td>\n",
       "      <td>3.39</td>\n",
       "      <td>United Kingdom</td>\n",
       "      <td>20.34</td>\n",
       "    </tr>\n",
       "    <tr>\n",
       "      <th>...</th>\n",
       "      <td>...</td>\n",
       "      <td>...</td>\n",
       "      <td>...</td>\n",
       "      <td>...</td>\n",
       "      <td>...</td>\n",
       "      <td>...</td>\n",
       "    </tr>\n",
       "    <tr>\n",
       "      <th>392437</th>\n",
       "      <td>PACK OF 20 SPACEBOY NAPKINS</td>\n",
       "      <td>12</td>\n",
       "      <td>2023-12-09 12:50:00</td>\n",
       "      <td>0.85</td>\n",
       "      <td>France</td>\n",
       "      <td>10.20</td>\n",
       "    </tr>\n",
       "    <tr>\n",
       "      <th>392438</th>\n",
       "      <td>CHILDREN'S APRON DOLLY GIRL</td>\n",
       "      <td>6</td>\n",
       "      <td>2023-12-09 12:50:00</td>\n",
       "      <td>2.10</td>\n",
       "      <td>France</td>\n",
       "      <td>12.60</td>\n",
       "    </tr>\n",
       "    <tr>\n",
       "      <th>392439</th>\n",
       "      <td>CHILDRENS CUTLERY DOLLY GIRL</td>\n",
       "      <td>4</td>\n",
       "      <td>2023-12-09 12:50:00</td>\n",
       "      <td>4.15</td>\n",
       "      <td>France</td>\n",
       "      <td>16.60</td>\n",
       "    </tr>\n",
       "    <tr>\n",
       "      <th>392440</th>\n",
       "      <td>CHILDRENS CUTLERY CIRCUS PARADE</td>\n",
       "      <td>4</td>\n",
       "      <td>2023-12-09 12:50:00</td>\n",
       "      <td>4.15</td>\n",
       "      <td>France</td>\n",
       "      <td>16.60</td>\n",
       "    </tr>\n",
       "    <tr>\n",
       "      <th>392441</th>\n",
       "      <td>BAKING SET 9 PIECE RETROSPOT</td>\n",
       "      <td>3</td>\n",
       "      <td>2023-12-09 12:50:00</td>\n",
       "      <td>4.95</td>\n",
       "      <td>France</td>\n",
       "      <td>14.85</td>\n",
       "    </tr>\n",
       "  </tbody>\n",
       "</table>\n",
       "<p>392442 rows × 6 columns</p>\n",
       "</div>"
      ],
      "text/plain": [
       "                                Description  Quantity         InvoiceDate  \\\n",
       "0        WHITE HANGING HEART T-LIGHT HOLDER         6 2022-12-01 08:26:00   \n",
       "1                       WHITE METAL LANTERN         6 2022-12-01 08:26:00   \n",
       "2            CREAM CUPID HEARTS COAT HANGER         8 2022-12-01 08:26:00   \n",
       "3       KNITTED UNION FLAG HOT WATER BOTTLE         6 2022-12-01 08:26:00   \n",
       "4            RED WOOLLY HOTTIE WHITE HEART.         6 2022-12-01 08:26:00   \n",
       "...                                     ...       ...                 ...   \n",
       "392437          PACK OF 20 SPACEBOY NAPKINS        12 2023-12-09 12:50:00   \n",
       "392438         CHILDREN'S APRON DOLLY GIRL          6 2023-12-09 12:50:00   \n",
       "392439        CHILDRENS CUTLERY DOLLY GIRL          4 2023-12-09 12:50:00   \n",
       "392440      CHILDRENS CUTLERY CIRCUS PARADE         4 2023-12-09 12:50:00   \n",
       "392441        BAKING SET 9 PIECE RETROSPOT          3 2023-12-09 12:50:00   \n",
       "\n",
       "        UnitPrice         Country  TotalPrice  \n",
       "0            2.55  United Kingdom       15.30  \n",
       "1            3.39  United Kingdom       20.34  \n",
       "2            2.75  United Kingdom       22.00  \n",
       "3            3.39  United Kingdom       20.34  \n",
       "4            3.39  United Kingdom       20.34  \n",
       "...           ...             ...         ...  \n",
       "392437       0.85          France       10.20  \n",
       "392438       2.10          France       12.60  \n",
       "392439       4.15          France       16.60  \n",
       "392440       4.15          France       16.60  \n",
       "392441       4.95          France       14.85  \n",
       "\n",
       "[392442 rows x 6 columns]"
      ]
     },
     "execution_count": 270,
     "metadata": {},
     "output_type": "execute_result"
    }
   ],
   "source": [
    "df_clean"
   ]
  },
  {
   "cell_type": "markdown",
   "id": "cec935fd",
   "metadata": {},
   "source": [
    "# **Customer Segmentation** "
   ]
  },
  {
   "cell_type": "markdown",
   "id": "2270f7bb",
   "metadata": {},
   "source": [
    "# **Product Recommendations**"
   ]
  }
 ],
 "metadata": {
  "kernelspec": {
   "display_name": "Python 3",
   "language": "python",
   "name": "python3"
  },
  "language_info": {
   "codemirror_mode": {
    "name": "ipython",
    "version": 3
   },
   "file_extension": ".py",
   "mimetype": "text/x-python",
   "name": "python",
   "nbconvert_exporter": "python",
   "pygments_lexer": "ipython3",
   "version": "3.10.11"
  }
 },
 "nbformat": 4,
 "nbformat_minor": 5
}
